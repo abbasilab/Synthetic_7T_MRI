{
 "cells": [
  {
   "cell_type": "code",
   "execution_count": 7,
   "metadata": {},
   "outputs": [
    {
     "name": "stderr",
     "output_type": "stream",
     "text": [
      "c:\\Users\\gavin\\anaconda3\\envs\\synth7t\\lib\\site-packages\\tqdm\\auto.py:21: TqdmWarning: IProgress not found. Please update jupyter and ipywidgets. See https://ipywidgets.readthedocs.io/en/stable/user_install.html\n",
      "  from .autonotebook import tqdm as notebook_tqdm\n"
     ]
    }
   ],
   "source": [
    "import os,sys\n",
    "import pandas as pd\n",
    "import numpy as np\n",
    "import nibabel as nib\n",
    "# sys.path.append(os.path.join(sys.path[0], '../'))\n",
    "sys.path.append('A:\\LabWork\\github\\Synthetic_7T_MRI\\src')\n",
    "\n",
    "from dataloader.data_utils_eval import (load_MRI_from_paths_list,\n",
    "                                        load_mask_from_paths_list,\n",
    "                                        get_filelist_from_path,\n",
    "                                        default_mask_generation,\n",
    "                                        apply_mask_to_subject)"
   ]
  },
  {
   "cell_type": "code",
   "execution_count": 13,
   "metadata": {},
   "outputs": [],
   "source": [
    "input_3T_path = r'A:\\LabWork\\data\\GRIP_test\\MNIspace'\n",
    "input_3T_files = get_filelist_from_path(input_3T_path)\n",
    "subjects_t1_3T = load_MRI_from_paths_list(input_3T_files, 't1_3T')\n",
    "ids_subjects = sorted([s.id for s in subjects_t1_3T])"
   ]
  },
  {
   "cell_type": "code",
   "execution_count": 20,
   "metadata": {},
   "outputs": [
    {
     "data": {
      "text/plain": [
       "array([[  -1.,    0.,    0.,   90.],\n",
       "       [   0.,    1.,    0., -126.],\n",
       "       [   0.,    0.,    1.,  -72.],\n",
       "       [   0.,    0.,    0.,    1.]])"
      ]
     },
     "execution_count": 20,
     "metadata": {},
     "output_type": "execute_result"
    }
   ],
   "source": [
    "subjects_t1_3T[0].t1_3T.affine"
   ]
  },
  {
   "cell_type": "code",
   "execution_count": 17,
   "metadata": {},
   "outputs": [],
   "source": [
    "ids_missing_masks = []\n",
    "ids_not_stripped = []\n",
    "subjects_mask_dict = {} "
   ]
  },
  {
   "cell_type": "code",
   "execution_count": 19,
   "metadata": {},
   "outputs": [],
   "source": [
    "input_mask_path = None\n",
    "ids_missing_masks = ids_subjects"
   ]
  }
 ],
 "metadata": {
  "kernelspec": {
   "display_name": "synth7t",
   "language": "python",
   "name": "python3"
  },
  "language_info": {
   "codemirror_mode": {
    "name": "ipython",
    "version": 3
   },
   "file_extension": ".py",
   "mimetype": "text/x-python",
   "name": "python",
   "nbconvert_exporter": "python",
   "pygments_lexer": "ipython3",
   "version": "3.10.16"
  }
 },
 "nbformat": 4,
 "nbformat_minor": 2
}
