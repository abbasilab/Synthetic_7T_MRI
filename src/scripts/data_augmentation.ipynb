{
 "cells": [
  {
   "cell_type": "code",
   "execution_count": 1,
   "metadata": {},
   "outputs": [],
   "source": [
    "import torchio as tio\n",
    "import os\n",
    "import os.path as path"
   ]
  },
  {
   "cell_type": "code",
   "execution_count": 2,
   "metadata": {},
   "outputs": [],
   "source": [
    "fp=f'../../data/original'\n",
    "fp3=f'{fp}/3T'\n",
    "fp7=f'{fp}/7T'\n",
    "fpm=f'{fp}/mask'\n",
    "\n",
    "with open('../../data/subjects.txt', 'r') as fp:\n",
    "  fns = [line.strip() for line in fp]\n",
    "\n",
    "postfix='.nii.gz'"
   ]
  },
  {
   "cell_type": "code",
   "execution_count": 3,
   "metadata": {},
   "outputs": [
    {
     "name": "stdout",
     "output_type": "stream",
     "text": [
      "Dataset size: 18 subjects\n"
     ]
    }
   ],
   "source": [
    "#load all subjects with torchio\n",
    "subjects=[]\n",
    "for i in range(len(fns)):\n",
    "    #normalize value between 0,1\n",
    "    #outlier removeal done during preprocessing (5%-95% percentile kept)\n",
    "    rescale1=tio.RescaleIntensity(out_min_max=(0, 1),percentiles=(0,100))\n",
    "    rescale2=tio.RescaleIntensity(out_min_max=(0, 1),percentiles=(0,100))\n",
    "    subject=tio.Subject(\n",
    "        t1_3T = rescale1(tio.ScalarImage(path.join(fp3,str(fns[i])+postfix))),\n",
    "        t1_7T = rescale2(tio.ScalarImage(path.join(fp7,str(fns[i])+postfix))),\n",
    "        mask = tio.LabelMap(path.join(fpm,str(fns[i])+postfix))\n",
    "    )\n",
    "    subjects.append(subject)\n",
    "# org_dataset = tio.SubjectsDataset(subjects)\n",
    "print('Dataset size:', len(subjects), 'subjects')"
   ]
  },
  {
   "cell_type": "markdown",
   "metadata": {},
   "source": [
    "# data augmentation"
   ]
  },
  {
   "cell_type": "code",
   "execution_count": 5,
   "metadata": {},
   "outputs": [],
   "source": [
    "transform = tio.Compose([\n",
    "    # Coordinate changes for 3T & 7T\n",
    "    tio.RandomFlip(axes=('LR','AP'),\n",
    "                    p=1,\n",
    "                    include=('t1_3T','t1_7T', 'mask')),\n",
    "    tio.RandomAffine(scales=0, #no scaling, data in MNI space\n",
    "                    degrees=20,\n",
    "                    isotropic=True,\n",
    "                    p=1,\n",
    "                    include=('t1_3T','t1_7T', 'mask')),\n",
    "    # Elastic deformation may cause some resolution degradation\n",
    "    tio.RandomElasticDeformation(num_control_points=7,\n",
    "                    p=1,\n",
    "                    include=('t1_3T','t1_7T', 'mask')),  \n",
    "    # image alterations for 3T only\n",
    "    tio.RandomGamma(log_gamma=(-0.3,0.3),\n",
    "                    p=1,\n",
    "                    include=('t1_3T')),\n",
    "    # allow image downsampling in each dimension (3T only)\n",
    "    ### Random anisotropy causes shift!\n",
    "    # do resample and then resample back!\n",
    "    tio.RandomAnisotropy(axes=(0),\n",
    "                         downsampling=(1, 5),\n",
    "                         p=1,\n",
    "                         include=('t1_3T')),\n",
    "    tio.RandomAnisotropy(axes=(1),\n",
    "                         downsampling=(1, 5),\n",
    "                         p=1,\n",
    "                         include=('t1_3T')),\n",
    "    tio.RandomAnisotropy(axes=(2),\n",
    "                         downsampling=(1, 5),\n",
    "                         p=1,\n",
    "                         include=('t1_3T')),                                        \n",
    "])"
   ]
  },
  {
   "cell_type": "code",
   "execution_count": 6,
   "metadata": {},
   "outputs": [],
   "source": [
    "subject_set = tio.SubjectsDataset(subjects)\n",
    "for i, subject in enumerate(subject_set):\n",
    "  transformed_subject = transform(subject)\n",
    "  \n",
    "  tind = '3'\n",
    "  directory3t = f'../../data/transform{tind}/3T'\n",
    "  directory7t = f'../../data/transform{tind}/7T'\n",
    "  directorymask = f'../../data/transform{tind}/mask'\n",
    "  if not os.path.isdir(directory3t):\n",
    "    os.makedirs(directory3t)\n",
    "    os.makedirs(directory7t)\n",
    "    os.makedirs(directorymask)\n",
    "\n",
    "  \n",
    "  transformed_subject.t1_3T.save(f'{directory3t}/{fns[i]}_transformed.nii.gz')\n",
    "  transformed_subject.t1_7T.save(f'{directory7t}/{fns[i]}_transformed.nii.gz')\n",
    "  transformed_subject.mask.save(f'{directorymask}/{fns[i]}_transformed.nii.gz')"
   ]
  },
  {
   "cell_type": "markdown",
   "metadata": {},
   "source": [
    "# downsample"
   ]
  },
  {
   "cell_type": "code",
   "execution_count": 7,
   "metadata": {},
   "outputs": [],
   "source": [
    "scale_factor = 2\n",
    "resampled_subjects = []\n",
    "for subject in subjects:\n",
    "    spacing = subject.t1_3T.spacing\n",
    "    new_spacing = [s * scale_factor for s in spacing]\n",
    "    resample_down = tio.Resample(new_spacing)\n",
    "    resample_up = tio.Resample(spacing)\n",
    "    resampled_subject = resample_down(subject)\n",
    "    resampled_subject = resample_up(resampled_subject)\n",
    "    resampled_subjects.append(resampled_subject)"
   ]
  },
  {
   "cell_type": "code",
   "execution_count": 11,
   "metadata": {},
   "outputs": [],
   "source": [
    "resampled_set = tio.SubjectsDataset(resampled_subjects)\n",
    "directory3t = f'../../data/down{scale_factor}/3T'\n",
    "directorymask = f'../../data/down{scale_factor}/mask'\n",
    "\n",
    "if not os.path.isdir(directory3t):\n",
    "  os.makedirs(directory3t)\n",
    "  os.makedirs(directorymask)\n",
    "\n",
    "for i, subject in enumerate(resampled_set):\n",
    "    subject.t1_3T.save(f'{directory3t}/{fns[i]}_down{scale_factor}.nii.gz')\n",
    "    subject.mask.save(f'{directorymask}/{fns[i]}_down{scale_factor}.nii.gz')"
   ]
  }
 ],
 "metadata": {
  "kernelspec": {
   "display_name": "Python 3",
   "language": "python",
   "name": "python3"
  },
  "language_info": {
   "codemirror_mode": {
    "name": "ipython",
    "version": 3
   },
   "file_extension": ".py",
   "mimetype": "text/x-python",
   "name": "python",
   "nbconvert_exporter": "python",
   "pygments_lexer": "ipython3",
   "version": "3.11.3"
  }
 },
 "nbformat": 4,
 "nbformat_minor": 2
}
